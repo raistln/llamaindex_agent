{
 "cells": [
  {
   "cell_type": "code",
   "execution_count": null,
   "metadata": {},
   "outputs": [
    {
     "ename": "",
     "evalue": "",
     "output_type": "error",
     "traceback": [
      "\u001b[1;31mThe kernel failed to start as the Python Environment 'llamaindex-agent-osMboX3r-py3.9 (Python 3.9.0)' is no longer available. Consider selecting another kernel or refreshing the list of Python Environments."
     ]
    }
   ],
   "source": [
    "from llama_index import Document, GPTVectorStoreIndex\n",
    "from llama_index.agent import OpenAIAgent"
   ]
  },
  {
   "cell_type": "code",
   "execution_count": null,
   "metadata": {},
   "outputs": [],
   "source": [
    "conda create --name new_env python=3.9\n",
    "conda activate new_env\n",
    "pip install llama_index"
   ]
  },
  {
   "cell_type": "code",
   "execution_count": null,
   "metadata": {},
   "outputs": [],
   "source": [
    "# Crear documentos de ejemplo\n",
    "documentos = [\n",
    "    Document(\"Python es un lenguaje de programación de alto nivel.\"),\n",
    "    Document(\"La inteligencia artificial es el futuro de la tecnología.\"),\n",
    "    Document(\"LlamaIndex facilita la integración de modelos de lenguaje con datos personalizados.\")\n",
    "]"
   ]
  },
  {
   "cell_type": "code",
   "execution_count": null,
   "metadata": {},
   "outputs": [],
   "source": [
    "indice = GPTVectorStoreIndex.from_documents(documentos)"
   ]
  },
  {
   "cell_type": "code",
   "execution_count": null,
   "metadata": {},
   "outputs": [],
   "source": [
    "agente = OpenAIAgent.from_tools(indice.as_query_engine())"
   ]
  },
  {
   "cell_type": "code",
   "execution_count": null,
   "metadata": {},
   "outputs": [],
   "source": [
    "# Realizar una consulta al agente\n",
    "consulta = \"¿Qué es LlamaIndex?\"\n",
    "respuesta = agente.chat(consulta)\n",
    "\n",
    "# Mostrar la respuesta\n",
    "print(respuesta)"
   ]
  }
 ],
 "metadata": {
  "kernelspec": {
   "display_name": "llamaindex-agent-osMboX3r-py3.9",
   "language": "python",
   "name": "python3"
  },
  "language_info": {
   "name": "python",
   "version": "3.9.0"
  }
 },
 "nbformat": 4,
 "nbformat_minor": 2
}
